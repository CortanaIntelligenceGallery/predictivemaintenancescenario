{
 "cells": [
  {
   "cell_type": "markdown",
   "metadata": {},
   "source": [
    "# Step 4: Model operationalization & Deployment\n",
    "\n",
    "In this script, a model is saved as a .model file along with the relevant scheme for deployment. The functions are first tested locally before operationalizing the model using Azure Machine Learning Model Management environment for use in production in realtime.\n"
   ]
  },
  {
   "cell_type": "code",
   "execution_count": 1,
   "metadata": {
    "collapsed": true
   },
   "outputs": [],
   "source": [
    "## setup our environment by importing required libraries\n",
    "import json\n",
    "import os\n",
    "import shutil\n",
    "\n",
    "from pyspark.ml import Pipeline\n",
    "from pyspark.ml.classification import RandomForestClassifier\n",
    "# for creating pipelines and model\n",
    "from pyspark.ml.feature import StringIndexer, VectorAssembler, VectorIndexer\n",
    "# setup the pyspark environment\n",
    "from pyspark.sql import SparkSession\n",
    "\n",
    "from azureml.api.schema.dataTypes import DataTypes\n",
    "from azureml.api.schema.sampleDefinition import SampleDefinition\n",
    "from azureml.api.realtime.services import generate_schema\n",
    "\n",
    "from azure.storage.blob import BlockBlobService\n",
    "from azure.storage.blob import PublicAccess\n",
    "\n",
    "spark = SparkSession.builder.getOrCreate()"
   ]
  },
  {
   "cell_type": "code",
   "execution_count": 2,
   "metadata": {},
   "outputs": [
    {
     "name": "stdout",
     "output_type": "stream",
     "text": [
      "DONE creating a local directory!\n"
     ]
    },
    {
     "data": {
      "text/html": [
       "<div>\n",
       "<style>\n",
       "    .dataframe thead tr:only-child th {\n",
       "        text-align: right;\n",
       "    }\n",
       "\n",
       "    .dataframe thead th {\n",
       "        text-align: left;\n",
       "    }\n",
       "\n",
       "    .dataframe tbody tr th {\n",
       "        vertical-align: top;\n",
       "    }\n",
       "</style>\n",
       "<table border=\"1\" class=\"dataframe\">\n",
       "  <thead>\n",
       "    <tr style=\"text-align: right;\">\n",
       "      <th></th>\n",
       "      <th>machineID</th>\n",
       "      <th>dt_truncated</th>\n",
       "      <th>volt_rollingmean_3</th>\n",
       "      <th>rotate_rollingmean_3</th>\n",
       "      <th>pressure_rollingmean_3</th>\n",
       "      <th>vibration_rollingmean_3</th>\n",
       "      <th>volt_rollingmean_24</th>\n",
       "      <th>rotate_rollingmean_24</th>\n",
       "      <th>pressure_rollingmean_24</th>\n",
       "      <th>vibration_rollingmean_24</th>\n",
       "      <th>...</th>\n",
       "      <th>error5sum_rollingmean_24</th>\n",
       "      <th>comp1sum</th>\n",
       "      <th>comp2sum</th>\n",
       "      <th>comp3sum</th>\n",
       "      <th>comp4sum</th>\n",
       "      <th>model</th>\n",
       "      <th>age</th>\n",
       "      <th>model_encoded</th>\n",
       "      <th>failure1</th>\n",
       "      <th>label_e</th>\n",
       "    </tr>\n",
       "  </thead>\n",
       "  <tbody>\n",
       "    <tr>\n",
       "      <th>0</th>\n",
       "      <td>45</td>\n",
       "      <td>2016-01-01 06:00:00</td>\n",
       "      <td>174.881727</td>\n",
       "      <td>527.816907</td>\n",
       "      <td>117.225971</td>\n",
       "      <td>39.472147</td>\n",
       "      <td>185.926371</td>\n",
       "      <td>470.121966</td>\n",
       "      <td>113.564799</td>\n",
       "      <td>39.936377</td>\n",
       "      <td>...</td>\n",
       "      <td>0.0</td>\n",
       "      <td>474.000000</td>\n",
       "      <td>459.000000</td>\n",
       "      <td>384.000000</td>\n",
       "      <td>579.000000</td>\n",
       "      <td>model1</td>\n",
       "      <td>14</td>\n",
       "      <td>(0.0, 0.0, 0.0)</td>\n",
       "      <td>0.0</td>\n",
       "      <td>0.0</td>\n",
       "    </tr>\n",
       "    <tr>\n",
       "      <th>1</th>\n",
       "      <td>45</td>\n",
       "      <td>2016-01-01 03:00:00</td>\n",
       "      <td>188.406674</td>\n",
       "      <td>474.631787</td>\n",
       "      <td>124.261901</td>\n",
       "      <td>38.869583</td>\n",
       "      <td>186.103373</td>\n",
       "      <td>461.103049</td>\n",
       "      <td>112.467296</td>\n",
       "      <td>39.969765</td>\n",
       "      <td>...</td>\n",
       "      <td>0.0</td>\n",
       "      <td>474.000000</td>\n",
       "      <td>459.000000</td>\n",
       "      <td>384.000000</td>\n",
       "      <td>579.000000</td>\n",
       "      <td>model1</td>\n",
       "      <td>14</td>\n",
       "      <td>(0.0, 0.0, 0.0)</td>\n",
       "      <td>0.0</td>\n",
       "      <td>0.0</td>\n",
       "    </tr>\n",
       "    <tr>\n",
       "      <th>2</th>\n",
       "      <td>45</td>\n",
       "      <td>2016-01-01 00:00:00</td>\n",
       "      <td>171.329008</td>\n",
       "      <td>454.871774</td>\n",
       "      <td>123.029121</td>\n",
       "      <td>37.712346</td>\n",
       "      <td>184.493495</td>\n",
       "      <td>458.147521</td>\n",
       "      <td>110.240281</td>\n",
       "      <td>39.621269</td>\n",
       "      <td>...</td>\n",
       "      <td>0.0</td>\n",
       "      <td>473.666667</td>\n",
       "      <td>458.666667</td>\n",
       "      <td>383.666667</td>\n",
       "      <td>578.666667</td>\n",
       "      <td>model1</td>\n",
       "      <td>14</td>\n",
       "      <td>(0.0, 0.0, 0.0)</td>\n",
       "      <td>0.0</td>\n",
       "      <td>0.0</td>\n",
       "    </tr>\n",
       "    <tr>\n",
       "      <th>3</th>\n",
       "      <td>45</td>\n",
       "      <td>2015-12-31 21:00:00</td>\n",
       "      <td>187.832175</td>\n",
       "      <td>478.072922</td>\n",
       "      <td>128.126653</td>\n",
       "      <td>38.659306</td>\n",
       "      <td>184.465271</td>\n",
       "      <td>453.473419</td>\n",
       "      <td>107.234582</td>\n",
       "      <td>39.799088</td>\n",
       "      <td>...</td>\n",
       "      <td>0.0</td>\n",
       "      <td>473.000000</td>\n",
       "      <td>458.000000</td>\n",
       "      <td>383.000000</td>\n",
       "      <td>578.000000</td>\n",
       "      <td>model1</td>\n",
       "      <td>14</td>\n",
       "      <td>(0.0, 0.0, 0.0)</td>\n",
       "      <td>0.0</td>\n",
       "      <td>0.0</td>\n",
       "    </tr>\n",
       "    <tr>\n",
       "      <th>4</th>\n",
       "      <td>45</td>\n",
       "      <td>2015-12-31 18:00:00</td>\n",
       "      <td>188.931361</td>\n",
       "      <td>465.157611</td>\n",
       "      <td>115.048540</td>\n",
       "      <td>41.007536</td>\n",
       "      <td>182.153162</td>\n",
       "      <td>454.506948</td>\n",
       "      <td>103.728100</td>\n",
       "      <td>39.916098</td>\n",
       "      <td>...</td>\n",
       "      <td>0.0</td>\n",
       "      <td>473.000000</td>\n",
       "      <td>458.000000</td>\n",
       "      <td>383.000000</td>\n",
       "      <td>578.000000</td>\n",
       "      <td>model1</td>\n",
       "      <td>14</td>\n",
       "      <td>(0.0, 0.0, 0.0)</td>\n",
       "      <td>0.0</td>\n",
       "      <td>0.0</td>\n",
       "    </tr>\n",
       "  </tbody>\n",
       "</table>\n",
       "<p>5 rows × 32 columns</p>\n",
       "</div>"
      ],
      "text/plain": [
       "   machineID        dt_truncated  volt_rollingmean_3  rotate_rollingmean_3  \\\n",
       "0         45 2016-01-01 06:00:00          174.881727            527.816907   \n",
       "1         45 2016-01-01 03:00:00          188.406674            474.631787   \n",
       "2         45 2016-01-01 00:00:00          171.329008            454.871774   \n",
       "3         45 2015-12-31 21:00:00          187.832175            478.072922   \n",
       "4         45 2015-12-31 18:00:00          188.931361            465.157611   \n",
       "\n",
       "   pressure_rollingmean_3  vibration_rollingmean_3  volt_rollingmean_24  \\\n",
       "0              117.225971                39.472147           185.926371   \n",
       "1              124.261901                38.869583           186.103373   \n",
       "2              123.029121                37.712346           184.493495   \n",
       "3              128.126653                38.659306           184.465271   \n",
       "4              115.048540                41.007536           182.153162   \n",
       "\n",
       "   rotate_rollingmean_24  pressure_rollingmean_24  vibration_rollingmean_24  \\\n",
       "0             470.121966               113.564799                 39.936377   \n",
       "1             461.103049               112.467296                 39.969765   \n",
       "2             458.147521               110.240281                 39.621269   \n",
       "3             453.473419               107.234582                 39.799088   \n",
       "4             454.506948               103.728100                 39.916098   \n",
       "\n",
       "    ...     error5sum_rollingmean_24    comp1sum    comp2sum    comp3sum  \\\n",
       "0   ...                          0.0  474.000000  459.000000  384.000000   \n",
       "1   ...                          0.0  474.000000  459.000000  384.000000   \n",
       "2   ...                          0.0  473.666667  458.666667  383.666667   \n",
       "3   ...                          0.0  473.000000  458.000000  383.000000   \n",
       "4   ...                          0.0  473.000000  458.000000  383.000000   \n",
       "\n",
       "     comp4sum   model  age    model_encoded  failure1  label_e  \n",
       "0  579.000000  model1   14  (0.0, 0.0, 0.0)       0.0      0.0  \n",
       "1  579.000000  model1   14  (0.0, 0.0, 0.0)       0.0      0.0  \n",
       "2  578.666667  model1   14  (0.0, 0.0, 0.0)       0.0      0.0  \n",
       "3  578.000000  model1   14  (0.0, 0.0, 0.0)       0.0      0.0  \n",
       "4  578.000000  model1   14  (0.0, 0.0, 0.0)       0.0      0.0  \n",
       "\n",
       "[5 rows x 32 columns]"
      ]
     },
     "execution_count": 2,
     "metadata": {},
     "output_type": "execute_result"
    }
   ],
   "source": [
    "# Enter your Azure blob storage details here \n",
    "ACCOUNT_NAME = \"pdmamlworkbench\"   ## \"<your blob storage account name>\"\n",
    "\n",
    "# You can find the account key under the _Access Keys_ link in the \n",
    "# [Azure Portal](portal.azure.com) page for your Azure storage container.\n",
    "ACCOUNT_KEY = \"O5uLzNKX7o+ZHFXtHDyS87SIev9QHlkdX2IhIbxYwhRo7sA9zp45HOOFFttUp4r0LyWCcLQ0cCA7l+e8Ct3Yew==\" ## \"<account key>\"\n",
    "\n",
    "#-------------------------------------------------------------------------------------------\n",
    "# We will create this container to hold the results of executing this notebook.\n",
    "# If this container name already exists, we will use that instead, however\n",
    "# This notebook will ERASE ALL CONTENTS.\n",
    "CONTAINER_NAME = \"featureengineering\"\n",
    "FE_DIRECTORY = 'featureengineering_files.parquet'\n",
    "\n",
    "# Connect to your blob service     \n",
    "my_service = BlockBlobService(account_name=ACCOUNT_NAME, account_key=ACCOUNT_KEY)\n",
    "\n",
    "# Create a new container if necessary, otherwise you can use an existing container.\n",
    "# This command creates the container if it does not already exist. Else it does nothing.\n",
    "my_service.create_container(CONTAINER_NAME, \n",
    "                            fail_on_exist=False, \n",
    "                            public_access=PublicAccess.Container)\n",
    "# create a local path where to store the results later.\n",
    "\n",
    "MODEL_DIRECTORY = 'model_operationalize.parquet'\n",
    "if not os.path.exists(MODEL_DIRECTORY):\n",
    "    os.makedirs(MODEL_DIRECTORY)\n",
    "    print('DONE creating a local directory!')\n",
    "\n",
    "# define your blob service     \n",
    "my_service = BlockBlobService(account_name=ACCOUNT_NAME, account_key=ACCOUNT_KEY)\n",
    "\n",
    "# download the entire parquet result folder to local path for a new run \n",
    "for blob in my_service.list_blobs(CONTAINER_NAME):\n",
    "    if CONTAINER_NAME in blob.name:\n",
    "        local_file = os.path.join(MODEL_DIRECTORY, os.path.basename(blob.name))\n",
    "        my_service.get_blob_to_path(CONTAINER_NAME, blob.name, local_file)\n",
    "\n",
    "fedata = spark.read.parquet(MODEL_DIRECTORY)\n",
    "\n",
    "fedata.limit(5).toPandas().head(5)\n"
   ]
  },
  {
   "cell_type": "markdown",
   "metadata": {},
   "source": [
    "# Define the features, labels for the model"
   ]
  },
  {
   "cell_type": "code",
   "execution_count": 3,
   "metadata": {
    "collapsed": true
   },
   "outputs": [],
   "source": [
    "# define list of input columns for downstream modeling \n",
    "input_features = [\n",
    "'volt_rollingmean_3',\n",
    "'rotate_rollingmean_3',\n",
    "'pressure_rollingmean_3',\n",
    "'vibration_rollingmean_3',\n",
    "'volt_rollingmean_24',\n",
    "'rotate_rollingmean_24',\n",
    "'pressure_rollingmean_24',\n",
    "'vibration_rollingmean_24',\n",
    "'volt_rollingstd_3',\n",
    "'rotate_rollingstd_3',\n",
    "'pressure_rollingstd_3',\n",
    "'vibration_rollingstd_3',\n",
    "'volt_rollingstd_24',\n",
    "'rotate_rollingstd_24',\n",
    "'pressure_rollingstd_24',\n",
    "'vibration_rollingstd_24',\n",
    "'error1sum_rollingmean_24',\n",
    "'error2sum_rollingmean_24',\n",
    "'error3sum_rollingmean_24',\n",
    "'error4sum_rollingmean_24',\n",
    "'error5sum_rollingmean_24',\n",
    "'comp1sum',\n",
    "'comp2sum',\n",
    "'comp3sum',\n",
    "'comp4sum',\n",
    "'age'  \n",
    "]\n",
    "\n",
    "label_var = ['label_e']\n",
    "key_cols =['machineID','dt_truncated']"
   ]
  },
  {
   "cell_type": "markdown",
   "metadata": {},
   "source": [
    "Vectorize the dataframe"
   ]
  },
  {
   "cell_type": "markdown",
   "metadata": {},
   "source": [
    "Once you have a model that performs well, you can package it into a scoring service. To prepare for this, save your model and dataset schema locally first. For this ensure that the user changes the setting within aml_config and set docker.compute file to have sharedVolumes: true and prepare the environment. "
   ]
  },
  {
   "cell_type": "markdown",
   "metadata": {},
   "source": [
    "In this section, we show the user how to author a realtime web service that scores the model you saved above. First, check to ensure that the latest version of the azure-ml-api-sdk is available for use."
   ]
  },
  {
   "cell_type": "markdown",
   "metadata": {},
   "source": [
    "# Define init and run functions\n",
    "Start by defining the init() and run() functions as shown in the cell below. Then write them to the score.py file. This file will load the model, perform the prediction, and return the result.\n",
    "\n",
    "The init() function initializes your web service, loading in any data or models that you need to score your inputs. In the example below, we load in the trained model. This command is run when the Docker container containing your service initializes.\n",
    "The run() function defines what is executed on a scoring call. In our simple example, we simply load in the input as a data frame, and run our pipeline on the input, and return the prediction."
   ]
  },
  {
   "cell_type": "code",
   "execution_count": 4,
   "metadata": {
    "collapsed": true
   },
   "outputs": [],
   "source": [
    "def init():\n",
    "    # read in the model file\n",
    "    from pyspark.ml import PipelineModel\n",
    "    global pipeline\n",
    "    \n",
    "    pipeline = PipelineModel.load(os.environ['AZUREML_NATIVE_SHARE_DIRECTORY']+'pdmrfull.model')\n",
    "    \n",
    "def run(input_df):\n",
    "    import json\n",
    "    response = ''\n",
    "    try:\n",
    "        #Get prediction results for the dataframe\n",
    "        input_features = [\n",
    "            'volt_rollingmean_3',\n",
    "            'rotate_rollingmean_3',\n",
    "            'pressure_rollingmean_3',\n",
    "            'vibration_rollingmean_3',\n",
    "            'volt_rollingmean_24',\n",
    "            'rotate_rollingmean_24',\n",
    "            'pressure_rollingmean_24',\n",
    "            'vibration_rollingmean_24',\n",
    "            'volt_rollingstd_3',\n",
    "            'rotate_rollingstd_3',\n",
    "            'pressure_rollingstd_3',\n",
    "            'vibration_rollingstd_3',\n",
    "            'volt_rollingstd_24',\n",
    "            'rotate_rollingstd_24',\n",
    "            'pressure_rollingstd_24',\n",
    "            'vibration_rollingstd_24',\n",
    "            'error1sum_rollingmean_24',\n",
    "            'error2sum_rollingmean_24',\n",
    "            'error3sum_rollingmean_24',\n",
    "            'error4sum_rollingmean_24',\n",
    "            'error5sum_rollingmean_24',\n",
    "            'comp1sum',\n",
    "            'comp2sum',\n",
    "            'comp3sum',\n",
    "            'comp4sum',\n",
    "            'age',\n",
    "        ]\n",
    "        \n",
    "        va = VectorAssembler(inputCols=(input_features), outputCol='features')\n",
    "        data = va.transform(input_df).select('machineID','features')\n",
    "        score = pipeline.transform(data)\n",
    "        predictions = score.collect()\n",
    "\n",
    "        #Get each scored result\n",
    "        preds = [str(x['prediction']) for x in predictions]\n",
    "        response = \",\".join(preds)\n",
    "    except Exception as e:\n",
    "        print(\"Error: {0}\",str(e))\n",
    "        return (str(e))\n",
    "    \n",
    "    # Return results\n",
    "    print(json.dumps(response))\n",
    "    return json.dumps(response)"
   ]
  },
  {
   "cell_type": "markdown",
   "metadata": {},
   "source": [
    "# Create schema and schema file\n",
    "Create a schema for the input to the web service and generate the schema file. This will be used to create a Swagger file for your web service which can be used to discover its input and sample data when calling it."
   ]
  },
  {
   "cell_type": "code",
   "execution_count": 5,
   "metadata": {
    "collapsed": true
   },
   "outputs": [],
   "source": [
    "# define the input data frame\n",
    "inputs = {\"input_df\": SampleDefinition(DataTypes.SPARK, \n",
    "                                       fedata.drop(\"dt_truncated\",\"failure1\",\"label_e\", \"model\",\"model_encoded\"))}"
   ]
  },
  {
   "cell_type": "code",
   "execution_count": 6,
   "metadata": {},
   "outputs": [
    {
     "name": "stdout",
     "output_type": "stream",
     "text": [
      "{'input': {'input_df': {'internal': {'fields': [{'metadata': {}, 'type': 'long', 'name': 'machineID', 'nullable': True}, {'metadata': {}, 'type': 'double', 'name': 'volt_rollingmean_3', 'nullable': True}, {'metadata': {}, 'type': 'double', 'name': 'rotate_rollingmean_3', 'nullable': True}, {'metadata': {}, 'type': 'double', 'name': 'pressure_rollingmean_3', 'nullable': True}, {'metadata': {}, 'type': 'double', 'name': 'vibration_rollingmean_3', 'nullable': True}, {'metadata': {}, 'type': 'double', 'name': 'volt_rollingmean_24', 'nullable': True}, {'metadata': {}, 'type': 'double', 'name': 'rotate_rollingmean_24', 'nullable': True}, {'metadata': {}, 'type': 'double', 'name': 'pressure_rollingmean_24', 'nullable': True}, {'metadata': {}, 'type': 'double', 'name': 'vibration_rollingmean_24', 'nullable': True}, {'metadata': {}, 'type': 'double', 'name': 'volt_rollingstd_3', 'nullable': True}, {'metadata': {}, 'type': 'double', 'name': 'rotate_rollingstd_3', 'nullable': True}, {'metadata': {}, 'type': 'double', 'name': 'pressure_rollingstd_3', 'nullable': True}, {'metadata': {}, 'type': 'double', 'name': 'vibration_rollingstd_3', 'nullable': True}, {'metadata': {}, 'type': 'double', 'name': 'volt_rollingstd_24', 'nullable': True}, {'metadata': {}, 'type': 'double', 'name': 'rotate_rollingstd_24', 'nullable': True}, {'metadata': {}, 'type': 'double', 'name': 'pressure_rollingstd_24', 'nullable': True}, {'metadata': {}, 'type': 'double', 'name': 'vibration_rollingstd_24', 'nullable': True}, {'metadata': {}, 'type': 'double', 'name': 'error1sum_rollingmean_24', 'nullable': True}, {'metadata': {}, 'type': 'double', 'name': 'error2sum_rollingmean_24', 'nullable': True}, {'metadata': {}, 'type': 'double', 'name': 'error3sum_rollingmean_24', 'nullable': True}, {'metadata': {}, 'type': 'double', 'name': 'error4sum_rollingmean_24', 'nullable': True}, {'metadata': {}, 'type': 'double', 'name': 'error5sum_rollingmean_24', 'nullable': True}, {'metadata': {}, 'type': 'double', 'name': 'comp1sum', 'nullable': True}, {'metadata': {}, 'type': 'double', 'name': 'comp2sum', 'nullable': True}, {'metadata': {}, 'type': 'double', 'name': 'comp3sum', 'nullable': True}, {'metadata': {}, 'type': 'double', 'name': 'comp4sum', 'nullable': True}, {'metadata': {}, 'type': 'long', 'name': 'age', 'nullable': True}], 'type': 'struct'}, 'type': 2, 'swagger': {'items': {'type': 'object', 'properties': {'rotate_rollingmean_24': {'format': 'double', 'type': 'number'}, 'error3sum_rollingmean_24': {'format': 'double', 'type': 'number'}, 'pressure_rollingstd_24': {'format': 'double', 'type': 'number'}, 'vibration_rollingmean_3': {'format': 'double', 'type': 'number'}, 'vibration_rollingmean_24': {'format': 'double', 'type': 'number'}, 'volt_rollingstd_24': {'format': 'double', 'type': 'number'}, 'comp2sum': {'format': 'double', 'type': 'number'}, 'pressure_rollingmean_3': {'format': 'double', 'type': 'number'}, 'comp3sum': {'format': 'double', 'type': 'number'}, 'vibration_rollingstd_24': {'format': 'double', 'type': 'number'}, 'pressure_rollingstd_3': {'format': 'double', 'type': 'number'}, 'error2sum_rollingmean_24': {'format': 'double', 'type': 'number'}, 'comp1sum': {'format': 'double', 'type': 'number'}, 'error1sum_rollingmean_24': {'format': 'double', 'type': 'number'}, 'volt_rollingmean_24': {'format': 'double', 'type': 'number'}, 'volt_rollingmean_3': {'format': 'double', 'type': 'number'}, 'vibration_rollingstd_3': {'format': 'double', 'type': 'number'}, 'error5sum_rollingmean_24': {'format': 'double', 'type': 'number'}, 'age': {'format': 'int64', 'type': 'integer'}, 'error4sum_rollingmean_24': {'format': 'double', 'type': 'number'}, 'rotate_rollingstd_3': {'format': 'double', 'type': 'number'}, 'machineID': {'format': 'int64', 'type': 'integer'}, 'comp4sum': {'format': 'double', 'type': 'number'}, 'volt_rollingstd_3': {'format': 'double', 'type': 'number'}, 'pressure_rollingmean_24': {'format': 'double', 'type': 'number'}, 'rotate_rollingmean_3': {'format': 'double', 'type': 'number'}, 'rotate_rollingstd_24': {'format': 'double', 'type': 'number'}}}, 'type': 'array', 'example': [{'rotate_rollingmean_24': 470.1219658987775, 'error3sum_rollingmean_24': 0.0, 'pressure_rollingstd_24': 0.1945085296751734, 'vibration_rollingmean_3': 39.472146777953654, 'pressure_rollingstd_3': 0.010565393835276299, 'volt_rollingstd_24': 0.03361414142292652, 'comp2sum': 459.0, 'pressure_rollingmean_3': 117.22597085550017, 'comp3sum': 384.0, 'vibration_rollingstd_24': 0.36239263228769986, 'vibration_rollingmean_24': 39.93637676066078, 'error2sum_rollingmean_24': 0.0, 'comp1sum': 474.0, 'error1sum_rollingmean_24': 0.0, 'volt_rollingmean_24': 185.92637096180658, 'volt_rollingmean_3': 174.88172665757065, 'vibration_rollingstd_3': 0.8102848856599294, 'error5sum_rollingmean_24': 0.0, 'age': 14, 'error4sum_rollingmean_24': 0.0, 'rotate_rollingstd_3': 2.2898301915618045, 'machineID': 45, 'comp4sum': 579.0, 'volt_rollingstd_3': 8.308641250692387, 'pressure_rollingmean_24': 113.56479908060074, 'rotate_rollingmean_3': 527.816906803798, 'rotate_rollingstd_24': 0.3233426394949046}, {'rotate_rollingmean_24': 461.1030486200735, 'error3sum_rollingmean_24': 0.0, 'pressure_rollingstd_24': 0.012495480312639678, 'vibration_rollingmean_3': 38.869583185731614, 'pressure_rollingstd_3': 1.7895872952762106, 'volt_rollingstd_24': 0.7740120822459206, 'comp2sum': 459.0, 'pressure_rollingmean_3': 124.26190112949568, 'comp3sum': 384.0, 'vibration_rollingstd_24': 0.21106710997624312, 'vibration_rollingmean_24': 39.96976455089771, 'error2sum_rollingmean_24': 0.0, 'comp1sum': 474.0, 'error1sum_rollingmean_24': 0.0, 'volt_rollingmean_24': 186.1033733765524, 'volt_rollingmean_3': 188.406673928196, 'vibration_rollingstd_3': 1.9805973022526275, 'error5sum_rollingmean_24': 0.0, 'age': 14, 'error4sum_rollingmean_24': 0.0, 'rotate_rollingstd_3': 13.920898245623066, 'machineID': 45, 'comp4sum': 579.0, 'volt_rollingstd_3': 4.60785082568852, 'pressure_rollingmean_24': 112.46729566613514, 'rotate_rollingmean_3': 474.63178724391287, 'rotate_rollingstd_24': 1.5152162169310932}, {'rotate_rollingmean_24': 458.14752146073414, 'error3sum_rollingmean_24': 0.0, 'pressure_rollingstd_24': 0.2620300574897778, 'vibration_rollingmean_3': 37.71234613693027, 'pressure_rollingstd_3': 1.808640841551748, 'volt_rollingstd_24': 0.4103068092842077, 'comp2sum': 458.6666666666667, 'pressure_rollingmean_3': 123.02912082922734, 'comp3sum': 383.6666666666667, 'vibration_rollingstd_24': 0.16523682934622702, 'vibration_rollingmean_24': 39.621269267841434, 'error2sum_rollingmean_24': 0.0, 'comp1sum': 473.6666666666667, 'error1sum_rollingmean_24': 0.0, 'volt_rollingmean_24': 184.4934951791266, 'volt_rollingmean_3': 171.32900821497492, 'vibration_rollingstd_3': 2.3594190696788924, 'error5sum_rollingmean_24': 0.0, 'age': 14, 'error4sum_rollingmean_24': 0.0, 'rotate_rollingstd_3': 15.91959183377542, 'machineID': 45, 'comp4sum': 578.6666666666666, 'volt_rollingstd_3': 7.16544669362819, 'pressure_rollingmean_24': 110.24028050598271, 'rotate_rollingmean_3': 454.8717742309143, 'rotate_rollingstd_24': 2.017971138478601}]}}}}\n",
      "{'input_df': <azureml.api.schema.sampleDefinition.SampleDefinition object at 0x7f1351135c18>}\n"
     ]
    }
   ],
   "source": [
    "x = generate_schema(run_func=run, inputs=inputs, filepath='service_schema.json')\n",
    "print(x)\n",
    "print(inputs)\n"
   ]
  },
  {
   "cell_type": "markdown",
   "metadata": {},
   "source": [
    "# Test init and run\n",
    "We can then test the init() and run() functions right here in the notebook, before we decide to actually publish a web service."
   ]
  },
  {
   "cell_type": "code",
   "execution_count": 7,
   "metadata": {},
   "outputs": [
    {
     "data": {
      "text/plain": [
       "[[114,\n",
       "  163.375732902,\n",
       "  333.149484586,\n",
       "  100.183951698,\n",
       "  44.0958812638,\n",
       "  164.114723991,\n",
       "  277.191815232,\n",
       "  97.6289110707,\n",
       "  50.8853505161,\n",
       "  21.0049565219,\n",
       "  67.5287259378,\n",
       "  12.9361526861,\n",
       "  4.61359760918,\n",
       "  15.5377738062,\n",
       "  67.6519885441,\n",
       "  10.528274633,\n",
       "  6.94129487555,\n",
       "  0.0,\n",
       "  0.0,\n",
       "  0.0,\n",
       "  0.0,\n",
       "  0.0,\n",
       "  489.0,\n",
       "  549.0,\n",
       "  549.0,\n",
       "  564.0,\n",
       "  18.0]]"
      ]
     },
     "execution_count": 7,
     "metadata": {},
     "output_type": "execute_result"
    }
   ],
   "source": [
    "# this is how the input data should be\n",
    "input_data = [[114, 163.375732902,333.149484586,100.183951698,44.0958812638,164.114723991,277.191815232,97.6289110707,50.8853505161,21.0049565219,67.5287259378,12.9361526861,4.61359760918,15.5377738062,67.6519885441,10.528274633,6.94129487555,0.0,0.0,0.0,0.0,0.0,489.0,549.0,549.0,564.0,18.0]]\n",
    "input_data"
   ]
  },
  {
   "cell_type": "code",
   "execution_count": 8,
   "metadata": {
    "collapsed": true
   },
   "outputs": [],
   "source": [
    "df = (spark.createDataFrame(input_data, [\"machineID\", \"volt_rollingmean_3\", \"rotate_rollingmean_3\", \"pressure_rollingmean_3\", \"vibration_rollingmean_3\", \"volt_rollingmean_24\", \n",
    "            \"rotate_rollingmean_24\", \"pressure_rollingmean_24\", \"vibration_rollingmean_24\", \"volt_rollingstd_3\", \"rotate_rollingstd_3\",\n",
    "            \"pressure_rollingstd_3\", \"vibration_rollingstd_3\", \"volt_rollingstd_24\", \"rotate_rollingstd_24\", \"pressure_rollingstd_24\",\n",
    "            \"vibration_rollingstd_24\", \"error1sum_rollingmean_24\", \"error2sum_rollingmean_24\", \"error3sum_rollingmean_24\",\n",
    "            \"error4sum_rollingmean_24\", \"error5sum_rollingmean_24\", \"comp1sum\", \"comp2sum\", \"comp3sum\", \"comp4sum\",\n",
    "            \"age\"]))"
   ]
  },
  {
   "cell_type": "code",
   "execution_count": 9,
   "metadata": {},
   "outputs": [
    {
     "name": "stdout",
     "output_type": "stream",
     "text": [
      "\"0.0\"\n"
     ]
    },
    {
     "data": {
      "text/plain": [
       "'\"0.0\"'"
      ]
     },
     "execution_count": 9,
     "metadata": {},
     "output_type": "execute_result"
    }
   ],
   "source": [
    "# test init() in local notebook\n",
    "init()\n",
    "# test run() in local notebook\n",
    "run(df)"
   ]
  },
  {
   "cell_type": "code",
   "execution_count": 10,
   "metadata": {
    "collapsed": true
   },
   "outputs": [],
   "source": [
    "# save the schema file for deployment\n",
    "out = json.dumps(x)\n",
    "with open(os.environ['AZUREML_NATIVE_SHARE_DIRECTORY'] + 'service_schema.json', 'w') as f:\n",
    "    f.write(out)"
   ]
  },
  {
   "cell_type": "markdown",
   "metadata": {},
   "source": [
    "Now the user will need to navigate to the folder: \n",
    "```C:\\Users\\<username>\\.azureml\\share\\<team account>\\<Project Name> ```\n",
    "\n",
    "Copy the file service_schema.json to your projects folder for deployment."
   ]
  },
  {
   "cell_type": "markdown",
   "metadata": {},
   "source": [
    "Now we will use %%writefile command will save the *.py file."
   ]
  },
  {
   "cell_type": "code",
   "execution_count": 11,
   "metadata": {},
   "outputs": [
    {
     "name": "stdout",
     "output_type": "stream",
     "text": [
      "Overwriting /azureml-share/pdmscore.py\n"
     ]
    }
   ],
   "source": [
    "%%writefile /azureml-share/pdmscore.py\n",
    "# after testing the below init() and run() functions,\n",
    "# uncomment this cell to create the score.py after.\n",
    "\n",
    "# remove import from init() from function.\n",
    "\n",
    "from pyspark.sql.types import *\n",
    "from pyspark.sql.dataframe import *\n",
    "from pyspark.sql.functions import *\n",
    "\n",
    "from pyspark.ml.classification import *\n",
    "from pyspark.ml import PipelineModel\n",
    "import json\n",
    "\n",
    "from pyspark.ml.feature import StringIndexer, OneHotEncoder, VectorAssembler, VectorIndexer\n",
    "\n",
    "\n",
    "def init():\n",
    "    # read in the model file\n",
    "    global pipeline\n",
    "    pipeline = PipelineModel.load('pdmrfull.model')\n",
    "    \n",
    "def run(input_df):\n",
    "    response = ''\n",
    "    try:\n",
    "        #Get prediction results for the dataframe\n",
    "        input_features = [\n",
    "            'volt_rollingmean_3',\n",
    "            'rotate_rollingmean_3',\n",
    "            'pressure_rollingmean_3',\n",
    "            'vibration_rollingmean_3',\n",
    "            'volt_rollingmean_24',\n",
    "            'rotate_rollingmean_24',\n",
    "            'pressure_rollingmean_24',\n",
    "            'vibration_rollingmean_24',\n",
    "            'volt_rollingstd_3',\n",
    "            'rotate_rollingstd_3',\n",
    "            'pressure_rollingstd_3',\n",
    "            'vibration_rollingstd_3',\n",
    "            'volt_rollingstd_24',\n",
    "            'rotate_rollingstd_24',\n",
    "            'pressure_rollingstd_24',\n",
    "            'vibration_rollingstd_24',\n",
    "            'error1sum_rollingmean_24',\n",
    "            'error2sum_rollingmean_24',\n",
    "            'error3sum_rollingmean_24',\n",
    "            'error4sum_rollingmean_24',\n",
    "            'error5sum_rollingmean_24',\n",
    "            'comp1sum',\n",
    "            'comp2sum',\n",
    "            'comp3sum',\n",
    "            'comp4sum',\n",
    "            'age',\n",
    "        ]\n",
    "\n",
    "        va = VectorAssembler(inputCols=(input_features), outputCol='features')\n",
    "        data = va.transform(input_df).select('machineID','features')\n",
    "        score = pipeline.transform(data)\n",
    "        predictions = score.collect()\n",
    "\n",
    "        #Get each scored result\n",
    "        preds = [str(x['prediction']) for x in predictions]\n",
    "        response = \",\".join(preds)\n",
    "    except Exception as e:\n",
    "        print(\"Error: {0}\",str(e))\n",
    "        return (str(e))\n",
    "    \n",
    "    # Return results\n",
    "    print(json.dumps(response))\n",
    "    return json.dumps(response)\n",
    "\n",
    "if __name__ == \"__main__\":\n",
    "    init()\n",
    "    run(\"{\\\"input_df\\\":[{\\\"machineID\\\":114,\\\"volt_rollingmean_3\\\":163.375732902,\\\"rotate_rollingmean_3\\\":333.149484586,\\\"pressure_rollingmean_3\\\":100.183951698,\\\"vibration_rollingmean_3\\\":44.0958812638,\\\"volt_rollingmean_24\\\":164.114723991,\\\"rotate_rollingmean_24\\\":277.191815232,\\\"pressure_rollingmean_24\\\":97.6289110707,\\\"vibration_rollingmean_24\\\":50.8853505161,\\\"volt_rollingstd_3\\\":21.0049565219,\\\"rotate_rollingstd_3\\\":67.5287259378,\\\"pressure_rollingstd_3\\\":12.9361526861,\\\"vibration_rollingstd_3\\\":4.61359760918,\\\"volt_rollingstd_24\\\":15.5377738062,\\\"rotate_rollingstd_24\\\":67.6519885441,\\\"pressure_rollingstd_24\\\":10.528274633,\\\"vibration_rollingstd_24\\\":6.94129487555,\\\"error1sum_rollingmean_24\\\":0.0,\\\"error2sum_rollingmean_24\\\":0.0,\\\"error3sum_rollingmean_24\\\":0.0,\\\"error4sum_rollingmean_24\\\":0.0,\\\"error5sum_rollingmean_24\\\":0.0,\\\"comp1sum\\\":489.0,\\\"comp2sum\\\":549.0,\\\"comp3sum\\\":549.0,\\\"comp4sum\\\":564.0,\\\"age\\\":18.0}]}\")"
   ]
  },
  {
   "cell_type": "code",
   "execution_count": 13,
   "metadata": {},
   "outputs": [
    {
     "name": "stdout",
     "output_type": "stream",
     "text": [
      "pdmrfull.model\tpdmscore.py  service_schema.json\n",
      "/bin/sh: 1: /usr/bin/zip: not found\n"
     ]
    }
   ],
   "source": [
    "!ls $AZUREML_NATIVE_SHARE_DIRECTORY"
   ]
  },
  {
   "cell_type": "code",
   "execution_count": 14,
   "metadata": {},
   "outputs": [
    {
     "data": {
      "text/plain": [
       "'/azureml-run/outputs/o16n.zip.zip'"
      ]
     },
     "execution_count": 14,
     "metadata": {},
     "output_type": "execute_result"
    }
   ],
   "source": [
    "\n",
    "shutil.make_archive('./outputs/o16n.zip', 'zip', os.environ['AZUREML_NATIVE_SHARE_DIRECTORY'])"
   ]
  },
  {
   "cell_type": "markdown",
   "metadata": {},
   "source": [
    "Now the user will need to navigate to the folder: \n",
    "```C:\\Users\\<username>\\.azureml\\share\\<team account>\\<Project Name> ```\n",
    "\n",
    "Copy the file pdmscore.py to your projects folder for deployment."
   ]
  },
  {
   "cell_type": "markdown",
   "metadata": {},
   "source": [
    "# Use the CLI to deploy and manage your web service \n",
    "\n",
    "## Pre-requisites \n",
    "\n",
    "Use the following commands to set up an environment and account to run the web service. For more info, see the Getting Started Guide and the CLI Command Reference. You can use -h flag at the end of the commands for command help.\n",
    "\n",
    "• Create the environment (you need to do this once per environment e.g. dev or prod)\n",
    "```\n",
    "az ml env setup -c -n <yourclustername> --location <e.g. eastus2>\n",
    "```\n",
    "\n",
    "• Create a Model Management account (one time setup)\n",
    "```\n",
    "az ml account modelmanagement create --location <e.g. eastus2> -n <your-new-acctname> -g <yourresourcegroupname> --sku-instances 1 --sku-name S1\n",
    "```\n",
    "\n",
    "• Set the Model Management account\n",
    "```\n",
    "az ml account modelmanagement set -n <youracctname> -g <yourresourcegroupname>\n",
    "```\n",
    "\n",
    "• Set the environment. The cluster name is the name used in step 1 above. The resource group name was the output of the same process and would be in the command window when the setup process is completed.\n",
    "```\n",
    "az ml env set -n <yourclustername> -g <yourresourcegroupname>\n",
    "```\n",
    "\n",
    "## Deploy your web service \n",
    "\n",
    "Switch to a bash shell, and run the following commands to deploy your service and run it.\n",
    "\n",
    "Enter the path where the notebook and other files are saved. Your actual path may be different from this example.\n",
    "```\n",
    "cd ~/notebooks/azureml/realtime/\n",
    "```\n",
    "\n",
    "This assumes that you saved your model locally.\n",
    "```\n",
    "az ml service create realtime -f pdmscore.py -r  spark-py -m pdmrfull.model -s service_schema.json -n pdmservice --cpu 0.1\n",
    "```\n",
    "\n",
    "This command will return the sample run command with sample data. You can get the Service Id from the output of the create command above.\n",
    "```\n",
    "az ml service show realtime -i <yourserviceid>\n",
    "```\n",
    "\n",
    "Call the web service to get a prediction\n",
    "\n",
    "`\n",
    "az ml service run realtime -i <yourserviceid> -d \"{\\\"input_df\\\": [{\\\"machineID\\\":114, \\\"volt_rollingmean_3\\\":163.375732902, \\\"rotate_rollingmean_3\\\":333.149484586, \\\"pressure_rollingmean_3\\\":100.183951698, \\\"vibration_rollingmean_3\\\":44.0958812638, \\\"volt_rollingmean_24\\\":164.114723991, \\\"rotate_rollingmean_24\\\":277.191815232, \\\"pressure_rollingmean_24\\\":97.6289110707, \\\"vibration_rollingmean_24\\\":50.8853505161, \\\"volt_rollingstd_3\\\":21.0049565219, \\\"rotate_rollingstd_3\\\":67.5287259378, \\\"pressure_rollingstd_3\\\":12.9361526861, \\\"vibration_rollingstd_3\\\":4.61359760918, \\\"volt_rollingstd_24\\\":15.5377738062, \\\"\n",
    "rotate_rollingstd_24\\\":67.6519885441, \\\"pressure_rollingstd_24\\\":10.528274633, \\\"vibration_rollingstd_24\\\":6.94129487555, \\\"error1sum_rollingmean_24\\\":0.0, \\\"error2sum_rollingmean_24\\\":0.0, \\\"error3sum_rollingmean_24\\\":0.0, \\\"error4sum_rollingmean_24\\\":0.0, \\\"error5sum_rollingmean_24\\\":0.0, \\\"comp1sum\\\":489.0, \\\"comp2sum\\\":549.0, \\\"comp3sum\\\":549.0, \\\"comp4sum\\\":564.0, \\\"age\\\":180}]}\"\n",
    "`\n",
    "\n",
    "Predicted output label is as follows:\n",
    "```\n",
    "\"0.0\"\n",
    "```"
   ]
  }
 ],
 "metadata": {
  "kernelspec": {
   "display_name": "Hack2 myDockerVm",
   "language": "python",
   "name": "hack2_mydockervm"
  },
  "language_info": {
   "codemirror_mode": {
    "name": "ipython",
    "version": 3
   },
   "file_extension": ".py",
   "mimetype": "text/x-python",
   "name": "python",
   "nbconvert_exporter": "python",
   "pygments_lexer": "ipython3",
   "version": "3.5.2"
  }
 },
 "nbformat": 4,
 "nbformat_minor": 2
}
